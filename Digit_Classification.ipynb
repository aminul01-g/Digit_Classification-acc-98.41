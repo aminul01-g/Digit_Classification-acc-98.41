{
  "nbformat": 4,
  "nbformat_minor": 0,
  "metadata": {
    "colab": {
      "provenance": [],
      "authorship_tag": "ABX9TyPqovc+i5n9C2NJgKd7RROF"
    },
    "kernelspec": {
      "name": "python3",
      "display_name": "Python 3"
    },
    "language_info": {
      "name": "python"
    }
  },
  "cells": [
    {
      "cell_type": "code",
      "execution_count": 24,
      "metadata": {
        "id": "NKmyehgjHfGo"
      },
      "outputs": [],
      "source": [
        "import torch\n",
        "import torch.nn as nn\n",
        "import torch.optim as optim\n",
        "from torchvision import datasets, transforms\n",
        "from torch.utils.data import DataLoader, random_split\n",
        "import matplotlib.pyplot as plt"
      ]
    },
    {
      "cell_type": "code",
      "source": [
        "# normalize and flatten later\n",
        "transform = transforms.Compose([\n",
        "    transforms.ToTensor(),\n",
        "    transforms.Normalize((0.5,), (0.5,))\n",
        "])"
      ],
      "metadata": {
        "id": "SzLHVwT3HlCH"
      },
      "execution_count": 25,
      "outputs": []
    },
    {
      "cell_type": "code",
      "source": [
        "# dataset\n",
        "train_dataset = datasets.MNIST(root='./data', train=True, transform=transform, download=True)\n",
        "test_dataset = datasets.MNIST(root='./data', train=False, transform=transform, download=True)"
      ],
      "metadata": {
        "id": "P46tDMhkHzdl"
      },
      "execution_count": 26,
      "outputs": []
    },
    {
      "cell_type": "code",
      "source": [
        "# Split training set into train & validation\n",
        "train_size = int(0.9 * len(train_dataset))\n",
        "val_size = len(train_dataset) - train_size\n",
        "train_ds, val_ds = random_split(train_dataset, [train_size, val_size])"
      ],
      "metadata": {
        "id": "rFFf3VLQH_CQ"
      },
      "execution_count": 27,
      "outputs": []
    },
    {
      "cell_type": "code",
      "source": [
        "# data loader\n",
        "train_loader = DataLoader(train_ds, batch_size=64, shuffle=True)\n",
        "val_loader = DataLoader(val_ds, batch_size=64)\n",
        "test_loader = DataLoader(test_dataset, batch_size=64)"
      ],
      "metadata": {
        "id": "J302OaGEIPHc"
      },
      "execution_count": 28,
      "outputs": []
    },
    {
      "cell_type": "code",
      "source": [
        "# model Aricitecture\n",
        "\n",
        "class MNISTClassifier(nn.Module):\n",
        "    def __init__(self):\n",
        "        super(MNISTClassifier, self).__init__()\n",
        "        self.flatten = nn.Flatten()\n",
        "        self.net = nn.Sequential(\n",
        "            nn.Linear(28*28, 512),\n",
        "            nn.BatchNorm1d(512),\n",
        "            nn.ReLU(),\n",
        "            nn.Dropout(0.3),\n",
        "\n",
        "            nn.Linear(512, 256),\n",
        "            nn.BatchNorm1d(256),\n",
        "            nn.ReLU(),\n",
        "            nn.Dropout(0.3),\n",
        "\n",
        "            nn.Linear(256, 128),\n",
        "            nn.BatchNorm1d(128),\n",
        "            nn.ReLU(),\n",
        "            nn.Dropout(0.3),\n",
        "\n",
        "            nn.Linear(128, 10)\n",
        "        )\n",
        "\n",
        "    def forward(self, x):\n",
        "        x = self.flatten(x)\n",
        "        return self.net(x)"
      ],
      "metadata": {
        "id": "OIchhjCrIT-x"
      },
      "execution_count": 29,
      "outputs": []
    },
    {
      "cell_type": "code",
      "source": [
        "model = MNISTClassifier()"
      ],
      "metadata": {
        "id": "OoD2tmoXInps"
      },
      "execution_count": 30,
      "outputs": []
    },
    {
      "cell_type": "code",
      "source": [
        "criterion = nn.CrossEntropyLoss()\n",
        "optimizer = optim.Adam(model.parameters(), lr=0.001)"
      ],
      "metadata": {
        "id": "mNWANz-mIwpv"
      },
      "execution_count": 31,
      "outputs": []
    },
    {
      "cell_type": "code",
      "source": [
        "def train_model(model, train_loader, val_loader, epochs):\n",
        "    train_acc_list, val_acc_list = [], []\n",
        "\n",
        "    for epoch in range(epochs):\n",
        "        model.train()\n",
        "        correct, total = 0, 0\n",
        "        for images, labels in train_loader:\n",
        "            images, labels = images, labels\n",
        "            outputs = model(images)\n",
        "            loss = criterion(outputs, labels)\n",
        "\n",
        "            optimizer.zero_grad()\n",
        "            loss.backward()\n",
        "            optimizer.step()\n",
        "\n",
        "            _, predicted = outputs.max(1)\n",
        "            correct += (predicted == labels).sum().item()\n",
        "            total += labels.size(0)\n",
        "\n",
        "        train_accuracy = 100 * correct / total\n",
        "        train_acc_list.append(train_accuracy)\n",
        "\n",
        "        # model accuracy\n",
        "        model.eval()\n",
        "        correct, total = 0, 0\n",
        "        with torch.no_grad():\n",
        "            for images, labels in val_loader:\n",
        "                images, labels = images, labels\n",
        "                outputs = model(images)\n",
        "                _, predicted = outputs.max(1)\n",
        "                correct += (predicted == labels).sum().item()\n",
        "                total += labels.size(0)\n",
        "\n",
        "        val_accuracy = 100 * correct / total\n",
        "        val_acc_list.append(val_accuracy)\n",
        "\n",
        "        print(f\"Epoch [{epoch+1}/{epochs}]  Train Acc: {train_accuracy:.2f}%  Val Acc: {val_accuracy:.2f}%\")\n",
        "    return train_acc_list, val_acc_list\n"
      ],
      "metadata": {
        "id": "M2SpE5lVIw9B"
      },
      "execution_count": 32,
      "outputs": []
    },
    {
      "cell_type": "code",
      "source": [
        "# train model\n",
        "\n",
        "train_acc, val_acc = train_model(model, train_loader, val_loader, epochs=15)"
      ],
      "metadata": {
        "colab": {
          "base_uri": "https://localhost:8080/"
        },
        "id": "sVgV9u40I1Dr",
        "outputId": "7ce9ab53-ab9c-48c8-fe49-e2f803c596e2"
      },
      "execution_count": 33,
      "outputs": [
        {
          "output_type": "stream",
          "name": "stdout",
          "text": [
            "Epoch [1/15]  Train Acc: 91.54%  Val Acc: 95.80%\n",
            "Epoch [2/15]  Train Acc: 95.42%  Val Acc: 97.30%\n",
            "Epoch [3/15]  Train Acc: 96.29%  Val Acc: 97.18%\n",
            "Epoch [4/15]  Train Acc: 96.79%  Val Acc: 97.60%\n",
            "Epoch [5/15]  Train Acc: 97.32%  Val Acc: 97.58%\n",
            "Epoch [6/15]  Train Acc: 97.52%  Val Acc: 97.68%\n",
            "Epoch [7/15]  Train Acc: 97.53%  Val Acc: 97.92%\n",
            "Epoch [8/15]  Train Acc: 97.93%  Val Acc: 97.87%\n",
            "Epoch [9/15]  Train Acc: 98.04%  Val Acc: 97.93%\n",
            "Epoch [10/15]  Train Acc: 98.12%  Val Acc: 98.32%\n",
            "Epoch [11/15]  Train Acc: 98.30%  Val Acc: 98.18%\n",
            "Epoch [12/15]  Train Acc: 98.39%  Val Acc: 98.20%\n",
            "Epoch [13/15]  Train Acc: 98.46%  Val Acc: 98.38%\n",
            "Epoch [14/15]  Train Acc: 98.45%  Val Acc: 98.28%\n",
            "Epoch [15/15]  Train Acc: 98.64%  Val Acc: 98.42%\n"
          ]
        }
      ]
    },
    {
      "cell_type": "code",
      "source": [
        "# Visualization\n",
        "\n",
        "plt.plot(train_acc, label='Train Accuracy')\n",
        "plt.plot(val_acc, label='Validation Accuracy')\n",
        "plt.xlabel('Epochs')\n",
        "plt.ylabel('Accuracy (%)')\n",
        "plt.legend()\n",
        "plt.title('Training vs. Validation Accuracy')\n",
        "plt.show()"
      ],
      "metadata": {
        "colab": {
          "base_uri": "https://localhost:8080/",
          "height": 472
        },
        "id": "poIBXC1vJTjT",
        "outputId": "84103c81-0ea4-439a-a72a-8b41e35b0860"
      },
      "execution_count": 34,
      "outputs": [
        {
          "output_type": "display_data",
          "data": {
            "text/plain": [
              "<Figure size 640x480 with 1 Axes>"
            ],
            "image/png": "[encoded data removed]"
          },
          "metadata": {}
        }
      ]
    },
    {
      "cell_type": "code",
      "source": [
        "model.eval()\n",
        "correct, total = 0, 0\n",
        "with torch.no_grad():\n",
        "    for images, labels in test_loader:\n",
        "        images, labels = images, labels\n",
        "        outputs = model(images)\n",
        "        _, predicted = outputs.max(1)\n",
        "        correct += (predicted == labels).sum().item()\n",
        "        total += labels.size(0)\n",
        "\n",
        "print(f'Final Test Accuracy: {100 * correct / total:.2f}%')"
      ],
      "metadata": {
        "colab": {
          "base_uri": "https://localhost:8080/"
        },
        "id": "V2dU17RRJXcD",
        "outputId": "c05a3c26-ab42-407f-dc33-acbf76e01937"
      },
      "execution_count": 35,
      "outputs": [
        {
          "output_type": "stream",
          "name": "stdout",
          "text": [
            "Final Test Accuracy: 98.41%\n"
          ]
        }
      ]
    }
  ]
}
