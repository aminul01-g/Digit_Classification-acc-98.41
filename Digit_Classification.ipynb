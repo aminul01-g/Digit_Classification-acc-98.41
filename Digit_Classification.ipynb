{
  "cells": [
    {
      "cell_type": "code",
      "execution_count": 1,
      "metadata": {
        "id": "NKmyehgjHfGo"
      },
      "outputs": [],
      "source": [
        "import torch\n",
        "import torch.nn as nn\n",
        "import torch.optim as optim\n",
        "from torchvision import datasets, transforms\n",
        "from torch.utils.data import DataLoader, random_split\n",
        "import matplotlib.pyplot as plt"
      ]
    },
    {
      "cell_type": "code",
      "execution_count": 2,
      "metadata": {
        "id": "SzLHVwT3HlCH"
      },
      "outputs": [],
      "source": [
        "# normalize and flatten later\n",
        "transform = transforms.Compose([\n",
        "    transforms.ToTensor(),\n",
        "    transforms.Normalize((0.5,), (0.5,))\n",
        "])"
      ]
    },
    {
      "cell_type": "code",
      "execution_count": 3,
      "metadata": {
        "id": "P46tDMhkHzdl"
      },
      "outputs": [
        {
          "name": "stderr",
          "output_type": "stream",
          "text": [
            "100%|██████████| 9.91M/9.91M [00:11<00:00, 867kB/s] \n",
            "100%|██████████| 28.9k/28.9k [00:00<00:00, 95.2kB/s]\n",
            "100%|██████████| 1.65M/1.65M [00:02<00:00, 595kB/s]\n",
            "100%|██████████| 4.54k/4.54k [00:00<00:00, 5.85MB/s]\n"
          ]
        }
      ],
      "source": [
        "# dataset\n",
        "train_dataset = datasets.MNIST(root='./data', train=True, transform=transform, download=True)\n",
        "test_dataset = datasets.MNIST(root='./data', train=False, transform=transform, download=True)"
      ]
    },
    {
      "cell_type": "code",
      "execution_count": 4,
      "metadata": {
        "id": "rFFf3VLQH_CQ"
      },
      "outputs": [],
      "source": [
        "# Split training set into train & validation\n",
        "train_size = int(0.9 * len(train_dataset))\n",
        "val_size = len(train_dataset) - train_size\n",
        "train_ds, val_ds = random_split(train_dataset, [train_size, val_size])"
      ]
    },
    {
      "cell_type": "code",
      "execution_count": 5,
      "metadata": {
        "id": "J302OaGEIPHc"
      },
      "outputs": [],
      "source": [
        "# data loader\n",
        "train_loader = DataLoader(train_ds, batch_size=64, shuffle=True)\n",
        "val_loader = DataLoader(val_ds, batch_size=64)\n",
        "test_loader = DataLoader(test_dataset, batch_size=64)"
      ]
    },
    {
      "cell_type": "code",
      "execution_count": 6,
      "metadata": {
        "id": "OIchhjCrIT-x"
      },
      "outputs": [],
      "source": [
        "# model Aricitecture\n",
        "\n",
        "class MNISTClassifier(nn.Module):\n",
        "    def __init__(self):\n",
        "        super(MNISTClassifier, self).__init__()\n",
        "        self.flatten = nn.Flatten()\n",
        "        self.net = nn.Sequential(\n",
        "            nn.Linear(28*28, 512),\n",
        "            nn.BatchNorm1d(512),\n",
        "            nn.ReLU(),\n",
        "            nn.Dropout(0.3),\n",
        "\n",
        "            nn.Linear(512, 256),\n",
        "            nn.BatchNorm1d(256),\n",
        "            nn.ReLU(),\n",
        "            nn.Dropout(0.3),\n",
        "\n",
        "            nn.Linear(256, 128),\n",
        "            nn.BatchNorm1d(128),\n",
        "            nn.ReLU(),\n",
        "            nn.Dropout(0.3),\n",
        "\n",
        "            nn.Linear(128, 10)\n",
        "        )\n",
        "\n",
        "    def forward(self, x):\n",
        "        x = self.flatten(x)\n",
        "        return self.net(x)"
      ]
    },
    {
      "cell_type": "code",
      "execution_count": 7,
      "metadata": {
        "id": "OoD2tmoXInps"
      },
      "outputs": [],
      "source": [
        "model = MNISTClassifier()"
      ]
    },
    {
      "cell_type": "code",
      "execution_count": 8,
      "metadata": {
        "id": "mNWANz-mIwpv"
      },
      "outputs": [],
      "source": [
        "criterion = nn.CrossEntropyLoss()\n",
        "optimizer = optim.Adam(model.parameters(), lr=0.001)"
      ]
    },
    {
      "cell_type": "code",
      "execution_count": 9,
      "metadata": {
        "id": "M2SpE5lVIw9B"
      },
      "outputs": [],
      "source": [
        "def train_model(model, train_loader, val_loader, epochs):\n",
        "    train_acc_list, val_acc_list = [], []\n",
        "\n",
        "    for epoch in range(epochs):\n",
        "        model.train()\n",
        "        correct, total = 0, 0\n",
        "        for images, labels in train_loader:\n",
        "            images, labels = images, labels\n",
        "            outputs = model(images)\n",
        "            loss = criterion(outputs, labels)\n",
        "\n",
        "            optimizer.zero_grad()\n",
        "            loss.backward()\n",
        "            optimizer.step()\n",
        "\n",
        "            _, predicted = outputs.max(1)\n",
        "            correct += (predicted == labels).sum().item()\n",
        "            total += labels.size(0)\n",
        "\n",
        "        train_accuracy = 100 * correct / total\n",
        "        train_acc_list.append(train_accuracy)\n",
        "\n",
        "        # model accuracy\n",
        "        model.eval()\n",
        "        correct, total = 0, 0\n",
        "        with torch.no_grad():\n",
        "            for images, labels in val_loader:\n",
        "                images, labels = images, labels\n",
        "                outputs = model(images)\n",
        "                _, predicted = outputs.max(1)\n",
        "                correct += (predicted == labels).sum().item()\n",
        "                total += labels.size(0)\n",
        "\n",
        "        val_accuracy = 100 * correct / total\n",
        "        val_acc_list.append(val_accuracy)\n",
        "\n",
        "        print(f\"Epoch [{epoch+1}/{epochs}]  Train Acc: {train_accuracy:.2f}%  Val Acc: {val_accuracy:.2f}%\")\n",
        "    return train_acc_list, val_acc_list\n"
      ]
    },
    {
      "cell_type": "code",
      "execution_count": 10,
      "metadata": {
        "colab": {
          "base_uri": "https://localhost:8080/"
        },
        "id": "sVgV9u40I1Dr",
        "outputId": "7ce9ab53-ab9c-48c8-fe49-e2f803c596e2"
      },
      "outputs": [
        {
          "name": "stdout",
          "output_type": "stream",
          "text": [
            "Epoch [1/15]  Train Acc: 91.42%  Val Acc: 96.60%\n",
            "Epoch [2/15]  Train Acc: 95.49%  Val Acc: 97.20%\n",
            "Epoch [3/15]  Train Acc: 96.24%  Val Acc: 97.27%\n",
            "Epoch [4/15]  Train Acc: 96.89%  Val Acc: 97.53%\n",
            "Epoch [5/15]  Train Acc: 97.23%  Val Acc: 97.78%\n",
            "Epoch [6/15]  Train Acc: 97.51%  Val Acc: 98.05%\n",
            "Epoch [7/15]  Train Acc: 97.68%  Val Acc: 98.02%\n",
            "Epoch [8/15]  Train Acc: 97.89%  Val Acc: 98.08%\n",
            "Epoch [9/15]  Train Acc: 97.99%  Val Acc: 98.02%\n",
            "Epoch [10/15]  Train Acc: 98.20%  Val Acc: 97.85%\n",
            "Epoch [11/15]  Train Acc: 98.23%  Val Acc: 98.05%\n",
            "Epoch [12/15]  Train Acc: 98.46%  Val Acc: 98.20%\n",
            "Epoch [13/15]  Train Acc: 98.53%  Val Acc: 98.23%\n",
            "Epoch [14/15]  Train Acc: 98.60%  Val Acc: 98.17%\n",
            "Epoch [15/15]  Train Acc: 98.56%  Val Acc: 98.43%\n"
          ]
        }
      ],
      "source": [
        "# train model\n",
        "\n",
        "train_acc, val_acc = train_model(model, train_loader, val_loader, epochs=15)"
      ]
    },
    {
      "cell_type": "code",
      "execution_count": 11,
      "metadata": {
        "colab": {
          "base_uri": "https://localhost:8080/",
          "height": 472
        },
        "id": "poIBXC1vJTjT",
        "outputId": "84103c81-0ea4-439a-a72a-8b41e35b0860"
      },
      "outputs": [
        {
          "data": {
            "image/png": "[encoded data removed]",
            "text/plain": [
              "<Figure size 640x480 with 1 Axes>"
            ]
          },
          "metadata": {},
          "output_type": "display_data"
        }
      ],
      "source": [
        "# Visualization\n",
        "\n",
        "plt.plot(train_acc, label='Train Accuracy')\n",
        "plt.plot(val_acc, label='Validation Accuracy')\n",
        "plt.xlabel('Epochs')\n",
        "plt.ylabel('Accuracy (%)')\n",
        "plt.legend()\n",
        "plt.title('Training vs. Validation Accuracy')\n",
        "plt.show()"
      ]
    },
    {
      "cell_type": "code",
      "execution_count": 12,
      "metadata": {
        "colab": {
          "base_uri": "https://localhost:8080/"
        },
        "id": "V2dU17RRJXcD",
        "outputId": "c05a3c26-ab42-407f-dc33-acbf76e01937"
      },
      "outputs": [
        {
          "name": "stdout",
          "output_type": "stream",
          "text": [
            "Final Test Accuracy: 98.43%\n"
          ]
        }
      ],
      "source": [
        "model.eval()\n",
        "correct, total = 0, 0\n",
        "with torch.no_grad():\n",
        "    for images, labels in test_loader:\n",
        "        images, labels = images, labels\n",
        "        outputs = model(images)\n",
        "        _, predicted = outputs.max(1)\n",
        "        correct += (predicted == labels).sum().item()\n",
        "        total += labels.size(0)\n",
        "\n",
        "print(f'Final Test Accuracy: {100 * correct / total:.2f}%')"
      ]
    },
    {
      "cell_type": "code",
      "execution_count": 13,
      "metadata": {},
      "outputs": [],
      "source": [
        "torch.save(model.state_dict(), 'model.pt')"
      ]
    }
  ],
  "metadata": {
    "colab": {
      "authorship_tag": "ABX9TyPqovc+i5n9C2NJgKd7RROF",
      "provenance": []
    },
    "kernelspec": {
      "display_name": "spector",
      "language": "python",
      "name": "python3"
    },
    "language_info": {
      "codemirror_mode": {
        "name": "ipython",
        "version": 3
      },
      "file_extension": ".py",
      "mimetype": "text/x-python",
      "name": "python",
      "nbconvert_exporter": "python",
      "pygments_lexer": "ipython3",
      "version": "3.11.11"
    }
  },
  "nbformat": 4,
  "nbformat_minor": 0
}
